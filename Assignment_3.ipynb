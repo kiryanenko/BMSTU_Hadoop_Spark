{
 "cells": [
  {
   "cell_type": "markdown",
   "metadata": {},
   "source": [
    "<div style=\"font-size:18pt; padding-top:20px; text-align:center\">ЗАДАНИЕ 3. <b>Рекомендательные системы и </b> <span style=\"font-weight:bold; color:green\">Spark MLlib</span></div><hr>\n",
    "<div style=\"text-align:right;\">Папулин С.Ю. <span style=\"font-style: italic;font-weight: bold;\">(papulin_bmstu@mail.ru, papulin.ru_hse@mail.ru)</span></div>"
   ]
  },
  {
   "cell_type": "markdown",
   "metadata": {},
   "source": [
    "<a name=\"0\"></a>\n",
    "<div><span style=\"font-size:14pt; font-weight:bold\">Содержание</span>\n",
    "    <ol>\n",
    "        <li><a href=\"#1\">Варианты</a></li>\n",
    "        <li><a href=\"#2\">Задание</a></li>\n",
    "    </ol>\n",
    "</div>"
   ]
  },
  {
   "cell_type": "markdown",
   "metadata": {},
   "source": [
    "<p>Подключение стилей оформления</p>"
   ]
  },
  {
   "cell_type": "code",
   "execution_count": 1,
   "metadata": {},
   "outputs": [
    {
     "data": {
      "text/html": [
       "<link href=\"css/style.css\" rel=\"stylesheet\" type=\"text/css\">\n"
      ],
      "text/plain": [
       "<IPython.core.display.HTML object>"
      ]
     },
     "metadata": {},
     "output_type": "display_data"
    }
   ],
   "source": [
    "%%html\n",
    "<link href=\"css/style.css\" rel=\"stylesheet\" type=\"text/css\">"
   ]
  },
  {
   "cell_type": "markdown",
   "metadata": {},
   "source": [
    "<div class=\"msg-block msg-imp\">\n",
    "  <div class=\"msg-text-imp\">\n",
    "      <p>СРОК СДАЧИ: <b>-</b></p>\n",
    "  </div>\n",
    "</div>"
   ]
  },
  {
   "cell_type": "markdown",
   "metadata": {},
   "source": [
    "<a name=\"1\"></a>\n",
    "<div style=\"display:table; width:100%; padding-top:10px; padding-bottom:10px; border-bottom:1px solid lightgrey\">\n",
    "    <div style=\"display:table-row\">\n",
    "        <div style=\"display:table-cell; width:80%; font-size:14pt; font-weight:bold\">1. Варианты</div>\n",
    "    \t<div style=\"display:table-cell; width:20%; text-align:center; background-color:whitesmoke; border:1px solid lightgrey\"><a href=\"#0\">К содержанию</a></div>\n",
    "    </div>\n",
    "</div>"
   ]
  },
  {
   "cell_type": "markdown",
   "metadata": {},
   "source": [
    "<p>Чтобы узнать свой вариант, введите Вашу фамилию в соответвующее поле ниже и запустите ячейку:</p>"
   ]
  },
  {
   "cell_type": "code",
   "execution_count": 2,
   "metadata": {},
   "outputs": [
    {
     "name": "stdout",
     "output_type": "stream",
     "text": [
      "Задача № 1:  2\n",
      "Задача № 2:  2\n"
     ]
    }
   ],
   "source": [
    "surname = \"Кирьяненко\" #Ваша фамилия\n",
    "\n",
    "alp = 'абвгдеёжзийклмнопрстуфхцчшщъыьэюя'\n",
    "w = [1, 42, 21, 21, 34,  6, 44, 26, 18, 44, 38, 26, 14, 43,  4, 49, 45,\n",
    "        7, 42, 29,  4,  9, 36, 34, 31, 29,  5, 30,  4, 19, 28, 25, 33]\n",
    "\n",
    "d = dict(zip(alp, w))\n",
    "variant =  sum([d[el] for el in surname.lower()]) % 40 + 1\n",
    "\n",
    "print(\"Задача № 1: \", variant % 3 + 1)\n",
    "print(\"Задача № 2: \", variant % 2 + 1 )"
   ]
  },
  {
   "cell_type": "markdown",
   "metadata": {},
   "source": [
    "<div class=\"msg-block msg-warning\">\n",
    "  <p class=\"msg-text-warn\">Варианты могут не совпадать с прошлыми ДЗ</p>\n",
    "</div>"
   ]
  },
  {
   "cell_type": "markdown",
   "metadata": {},
   "source": [
    "<a name=\"2\"></a>\n",
    "<div style=\"display:table; width:100%; padding-top:10px; padding-bottom:10px; border-bottom:1px solid lightgrey\">\n",
    "    <div style=\"display:table-row\">\n",
    "        <div style=\"display:table-cell; width:80%; font-size:14pt; font-weight:bold\">2. Задание</div>\n",
    "    \t<div style=\"display:table-cell; width:20%; text-align:center; background-color:whitesmoke; border:1px solid lightgrey\"><a href=\"#0\">К содержанию</a></div>\n",
    "    </div>\n",
    "</div>"
   ]
  },
  {
   "cell_type": "code",
   "execution_count": 3,
   "metadata": {},
   "outputs": [
    {
     "name": "stdout",
     "output_type": "stream",
     "text": [
      "Start Spark app\n"
     ]
    }
   ],
   "source": [
    "import pyspark\n",
    "from pyspark.sql import SQLContext\n",
    "from pyspark.sql.types import StructType, StructField, StringType, DoubleType, ArrayType, LongType, DateType, TimestampType\n",
    "from pyspark.sql.functions import desc\n",
    "\n",
    "conf = pyspark.SparkConf() \\\n",
    "        .setAppName(\"mllibRDDApp\") \\\n",
    "        .set(\"spark.submit.deployMode\", \"client\")\n",
    "sc = pyspark.SparkContext(conf=conf)\n",
    "sqlContext = SQLContext(sc)\n",
    "\n",
    "print('Start Spark app')"
   ]
  },
  {
   "cell_type": "markdown",
   "metadata": {},
   "source": [
    "<p><b>Датасеты:</b></p>"
   ]
  },
  {
   "cell_type": "markdown",
   "metadata": {},
   "source": [
    "Небольшой набор данных: <a href=\"http://files.grouplens.org/datasets/movielens/ml-latest-small.zip\">http://files.grouplens.org/datasets/movielens/ml-latest-small.zip</a><br>\n",
    "Полный набор: <a href=\"http://files.grouplens.org/datasets/movielens/ml-latest.zip\">http://files.grouplens.org/datasets/movielens/ml-latest.zip</a>"
   ]
  },
  {
   "cell_type": "markdown",
   "metadata": {},
   "source": [
    "<div class=\"msg-block msg-warning\">\n",
    "  <div class=\"msg-text-warn\">\n",
    "      <p style=\"margin:0px\">1. Сначала выполните указанные ниже задачи для небольшого набора данных, потом для полного</p>\n",
    "      <p style=\"margin:0px\">2. Использовать Dataframe. Исключением может быть задача 2</p>\n",
    "  </div>\n",
    "</div>"
   ]
  },
  {
   "cell_type": "markdown",
   "metadata": {},
   "source": [
    "<p><b>Задача 1.</b> Анализ датасета <b><i>(2 балла)</i></b></p>"
   ]
  },
  {
   "cell_type": "markdown",
   "metadata": {},
   "source": [
    "<p><b style=\"color:green;\">Вариант 1.</b> Animation, Romance, Documentary</p>\n",
    "<p><b style=\"color:green;\">Вариант 2.</b> Drama, Comedy, Musical</p>\n",
    "<p><b style=\"color:green;\">Вариант 3.</b> Thriller, Sci-Fi, Adventure</p>"
   ]
  },
  {
   "cell_type": "markdown",
   "metadata": {},
   "source": [
    "<div class=\"msg-block msg-info\">\n",
    "  <p class=\"msg-text-info\">Один фильм может принадлежать разным жанрам</p>\n",
    "</div>"
   ]
  },
  {
   "cell_type": "markdown",
   "metadata": {},
   "source": [
    "<p>1. Выведите данные, сопоставляющие жанры и количество фильмов</p>"
   ]
  },
  {
   "cell_type": "code",
   "execution_count": 4,
   "metadata": {},
   "outputs": [
    {
     "name": "stdout",
     "output_type": "stream",
     "text": [
      "+---+--------------------+--------------------+\n",
      "| id|               title|              genres|\n",
      "+---+--------------------+--------------------+\n",
      "|  1|    Toy Story (1995)|Adventure|Animati...|\n",
      "|  2|      Jumanji (1995)|Adventure|Childre...|\n",
      "|  3|Grumpier Old Men ...|      Comedy|Romance|\n",
      "|  4|Waiting to Exhale...|Comedy|Drama|Romance|\n",
      "|  5|Father of the Bri...|              Comedy|\n",
      "|  6|         Heat (1995)|Action|Crime|Thri...|\n",
      "|  7|      Sabrina (1995)|      Comedy|Romance|\n",
      "|  8| Tom and Huck (1995)|  Adventure|Children|\n",
      "|  9| Sudden Death (1995)|              Action|\n",
      "| 10|    GoldenEye (1995)|Action|Adventure|...|\n",
      "| 11|American Presiden...|Comedy|Drama|Romance|\n",
      "| 12|Dracula: Dead and...|       Comedy|Horror|\n",
      "| 13|        Balto (1995)|Adventure|Animati...|\n",
      "| 14|        Nixon (1995)|               Drama|\n",
      "| 15|Cutthroat Island ...|Action|Adventure|...|\n",
      "| 16|       Casino (1995)|         Crime|Drama|\n",
      "| 17|Sense and Sensibi...|       Drama|Romance|\n",
      "| 18|   Four Rooms (1995)|              Comedy|\n",
      "| 19|Ace Ventura: When...|              Comedy|\n",
      "| 20|  Money Train (1995)|Action|Comedy|Cri...|\n",
      "+---+--------------------+--------------------+\n",
      "only showing top 20 rows\n",
      "\n",
      "+--------+---------+\n",
      "|movie_id|    genre|\n",
      "+--------+---------+\n",
      "|       1|Adventure|\n",
      "|       1|Animation|\n",
      "|       1| Children|\n",
      "|       1|   Comedy|\n",
      "|       1|  Fantasy|\n",
      "|       2|Adventure|\n",
      "|       2| Children|\n",
      "|       2|  Fantasy|\n",
      "|       3|   Comedy|\n",
      "|       3|  Romance|\n",
      "|       4|   Comedy|\n",
      "|       4|    Drama|\n",
      "|       4|  Romance|\n",
      "|       5|   Comedy|\n",
      "|       6|   Action|\n",
      "|       6|    Crime|\n",
      "|       6| Thriller|\n",
      "|       7|   Comedy|\n",
      "|       7|  Romance|\n",
      "|       8|Adventure|\n",
      "+--------+---------+\n",
      "only showing top 20 rows\n",
      "\n",
      "Жанры и количество фильмов:\n",
      "+------------------+-----+\n",
      "|             genre|count|\n",
      "+------------------+-----+\n",
      "|             Crime| 1199|\n",
      "|           Romance| 1596|\n",
      "|          Thriller| 1894|\n",
      "|         Adventure| 1263|\n",
      "|             Drama| 4361|\n",
      "|               War|  382|\n",
      "|       Documentary|  440|\n",
      "|           Fantasy|  779|\n",
      "|           Mystery|  573|\n",
      "|           Musical|  334|\n",
      "|         Animation|  611|\n",
      "|         Film-Noir|   87|\n",
      "|(no genres listed)|   34|\n",
      "|              IMAX|  158|\n",
      "|            Horror|  978|\n",
      "|           Western|  167|\n",
      "|            Comedy| 3756|\n",
      "|          Children|  664|\n",
      "|            Action| 1828|\n",
      "|            Sci-Fi|  980|\n",
      "+------------------+-----+\n",
      "\n"
     ]
    }
   ],
   "source": [
    "# Читаю файл с фильмами\n",
    "movies_file = 'data/ml-latest-small/movies.csv'\n",
    "movies_schema = StructType([StructField(name=\"id\", dataType=LongType(), nullable=False),\n",
    "                            StructField(name=\"title\", dataType=StringType(), nullable=False),\n",
    "                            StructField(name=\"genres\", dataType=StringType(), nullable=False)])\n",
    "movies = sqlContext.read.load(path=movies_file, format=\"csv\", schema=movies_schema, header=\"true\",\n",
    "                             inferSchema=\"false\", sep=\",\", nullValue=\"null\", mode=\"DROPMALFORMED\")\n",
    "movies.show()\n",
    "\n",
    "# Создаю связывающую таблицу фильм - жанр\n",
    "movies_genres = movies.rdd \\\n",
    "    .flatMap(lambda row: [(row.id, genre) for genre in row.genres.split('|')]) \\\n",
    "    .toDF(['movie_id', 'genre'])\n",
    "movies_genres.show()\n",
    "\n",
    "# Сопоставляю жанры и количество фильмов\n",
    "genre_movie_cnt = movies_genres.groupBy('genre').count()\n",
    "print('Жанры и количество фильмов:')\n",
    "genre_movie_cnt.show()"
   ]
  },
  {
   "cell_type": "markdown",
   "metadata": {},
   "source": [
    "<p>2. Выведите первые 10 фильмов с наибольшим количеством рейтингов для каждого жанра в соотвествии с вариантом</p>"
   ]
  },
  {
   "cell_type": "code",
   "execution_count": 5,
   "metadata": {},
   "outputs": [
    {
     "name": "stdout",
     "output_type": "stream",
     "text": [
      "+-------+--------+----+---------+\n",
      "|user_id|movie_id|vote|     date|\n",
      "+-------+--------+----+---------+\n",
      "|      1|       1| 4.0|964982703|\n",
      "|      1|       3| 4.0|964981247|\n",
      "|      1|       6| 4.0|964982224|\n",
      "|      1|      47| 5.0|964983815|\n",
      "|      1|      50| 5.0|964982931|\n",
      "|      1|      70| 3.0|964982400|\n",
      "|      1|     101| 5.0|964980868|\n",
      "|      1|     110| 4.0|964982176|\n",
      "|      1|     151| 5.0|964984041|\n",
      "|      1|     157| 5.0|964984100|\n",
      "|      1|     163| 5.0|964983650|\n",
      "|      1|     216| 5.0|964981208|\n",
      "|      1|     223| 3.0|964980985|\n",
      "|      1|     231| 5.0|964981179|\n",
      "|      1|     235| 4.0|964980908|\n",
      "|      1|     260| 5.0|964981680|\n",
      "|      1|     296| 3.0|964982967|\n",
      "|      1|     316| 3.0|964982310|\n",
      "|      1|     333| 5.0|964981179|\n",
      "|      1|     349| 4.0|964982563|\n",
      "+-------+--------+----+---------+\n",
      "only showing top 20 rows\n",
      "\n",
      "+-----+--------------------+---------+\n",
      "|   id|               title|votes_cnt|\n",
      "+-----+--------------------+---------+\n",
      "|   55|      Georgia (1995)|        1|\n",
      "|  502|Next Karate Kid, ...|       15|\n",
      "| 1301|Forbidden Planet ...|       13|\n",
      "| 1458|        Touch (1997)|        1|\n",
      "| 1526| Fathers' Day (1997)|        3|\n",
      "| 2887|    Simon Sez (1999)|        1|\n",
      "| 3070|Adventures of Buc...|       21|\n",
      "| 3129|Sweet and Lowdown...|        3|\n",
      "| 3448|Good Morning, Vie...|       43|\n",
      "| 3702|      Mad Max (1979)|       38|\n",
      "| 3965|Strange Love of M...|        1|\n",
      "| 4285|Frankie and Johnn...|        3|\n",
      "| 5221|Harrison's Flower...|        1|\n",
      "| 5250|   Stir Crazy (1980)|        3|\n",
      "| 6193|Poolhall Junkies ...|        3|\n",
      "| 6868|   Wonderland (2003)|        7|\n",
      "| 6954|Barbarian Invasio...|        3|\n",
      "| 7059|National Velvet (...|        2|\n",
      "|26285|    Dark Star (1974)|        1|\n",
      "|26599|Law of Desire (Le...|        1|\n",
      "+-----+--------------------+---------+\n",
      "only showing top 20 rows\n",
      "\n",
      "10 популярных фильмов жанра \"Drama\":\n",
      "+----+--------------------+---------+--------+-----+\n",
      "|  id|               title|votes_cnt|movie_id|genre|\n",
      "+----+--------------------+---------+--------+-----+\n",
      "| 356| Forrest Gump (1994)|      329|     356|Drama|\n",
      "| 318|Shawshank Redempt...|      317|     318|Drama|\n",
      "| 296| Pulp Fiction (1994)|      307|     296|Drama|\n",
      "| 110|   Braveheart (1995)|      237|     110|Drama|\n",
      "| 527|Schindler's List ...|      220|     527|Drama|\n",
      "|2959|   Fight Club (1999)|      218|    2959|Drama|\n",
      "|2858|American Beauty (...|      204|    2858|Drama|\n",
      "| 150|    Apollo 13 (1995)|      201|     150|Drama|\n",
      "| 858|Godfather, The (1...|      192|     858|Drama|\n",
      "|2028|Saving Private Ry...|      188|    2028|Drama|\n",
      "+----+--------------------+---------+--------+-----+\n",
      "\n",
      "10 популярных фильмов жанра \"Comedy\":\n",
      "+----+--------------------+---------+--------+------+\n",
      "|  id|               title|votes_cnt|movie_id| genre|\n",
      "+----+--------------------+---------+--------+------+\n",
      "| 356| Forrest Gump (1994)|      329|     356|Comedy|\n",
      "| 296| Pulp Fiction (1994)|      307|     296|Comedy|\n",
      "|   1|    Toy Story (1995)|      215|       1|Comedy|\n",
      "| 588|      Aladdin (1992)|      183|     588|Comedy|\n",
      "| 608|        Fargo (1996)|      181|     608|Comedy|\n",
      "| 380|    True Lies (1994)|      178|     380|Comedy|\n",
      "|1270|Back to the Futur...|      171|    1270|Comedy|\n",
      "|4306|        Shrek (2001)|      170|    4306|Comedy|\n",
      "|1580|Men in Black (a.k...|      165|    1580|Comedy|\n",
      "| 344|Ace Ventura: Pet ...|      161|     344|Comedy|\n",
      "+----+--------------------+---------+--------+------+\n",
      "\n",
      "10 популярных фильмов жанра \"Musical\":\n",
      "+----+--------------------+---------+--------+-------+\n",
      "|  id|               title|votes_cnt|movie_id|  genre|\n",
      "+----+--------------------+---------+--------+-------+\n",
      "| 588|      Aladdin (1992)|      183|     588|Musical|\n",
      "| 364|Lion King, The (1...|      172|     364|Musical|\n",
      "| 595|Beauty and the Be...|      146|     595|Musical|\n",
      "|1073|Willy Wonka & the...|      119|    1073|Musical|\n",
      "| 551|Nightmare Before ...|       93|     551|Musical|\n",
      "|8360|      Shrek 2 (2004)|       92|    8360|Musical|\n",
      "| 919|Wizard of Oz, The...|       92|     919|Musical|\n",
      "|1220|Blues Brothers, T...|       84|    1220|Musical|\n",
      "| 594|Snow White and th...|       77|     594|Musical|\n",
      "|2700|South Park: Bigge...|       76|    2700|Musical|\n",
      "+----+--------------------+---------+--------+-------+\n",
      "\n"
     ]
    }
   ],
   "source": [
    "# Читаю файл с отзывами\n",
    "ratings_file = 'data/ml-latest-small/ratings.csv'\n",
    "vote_schema = StructType([StructField(name=\"user_id\", dataType=LongType(), nullable=False),\n",
    "                          StructField(name=\"movie_id\", dataType=LongType(), nullable=False),\n",
    "                          StructField(name=\"vote\", dataType=DoubleType(), nullable=False),\n",
    "                          StructField(name=\"date\", dataType=LongType(), nullable=False)])\n",
    "votes = sqlContext.read.load(path=ratings_file, format=\"csv\", schema=vote_schema, header=\"true\",\n",
    "                             inferSchema=\"false\", sep=\",\", nullValue=\"null\", mode=\"DROPMALFORMED\")\n",
    "votes.show()\n",
    "\n",
    "# Подсчитываю количество голосов для каждого фильма\n",
    "movies_votes_cnt = movies \\\n",
    "    .join(votes, movies.id == votes.movie_id, how='left') \\\n",
    "    .groupBy('id', 'title') \\\n",
    "    .agg({'*': 'count'}) \\\n",
    "    .withColumnRenamed('count(1)', 'votes_cnt')\n",
    "movies_votes_cnt.show()\n",
    "\n",
    "# Для каждого жанра вывожу 10 популярных фильмов\n",
    "VARIANT_GENRES = ['Drama', 'Comedy', 'Musical']\n",
    "for genre in VARIANT_GENRES:\n",
    "    print('10 популярных фильмов жанра \"{}\":'.format(genre))\n",
    "    movies_votes_cnt \\\n",
    "        .join(movies_genres, movies.id == movies_genres.movie_id) \\\n",
    "        .filter(movies_genres.genre == genre) \\\n",
    "        .orderBy(desc('votes_cnt')) \\\n",
    "        .limit(10) \\\n",
    "        .show()"
   ]
  },
  {
   "cell_type": "markdown",
   "metadata": {},
   "source": [
    "<p>3. Выведите первые 10 фильмов с наименьшим количеством рейтингов (но больше 10) для каждого жанра в соотвествии с вариантом</p>"
   ]
  },
  {
   "cell_type": "code",
   "execution_count": 6,
   "metadata": {},
   "outputs": [
    {
     "name": "stdout",
     "output_type": "stream",
     "text": [
      "10 не популярных фильмов жанра \"Drama\":\n",
      "+------+--------------------+---------+--------+-----+\n",
      "|    id|               title|votes_cnt|movie_id|genre|\n",
      "+------+--------------------+---------+--------+-----+\n",
      "|  3824|Autumn in New Yor...|       11|    3824|Drama|\n",
      "|  5108|       John Q (2002)|       11|    5108|Drama|\n",
      "|  1041|Secrets & Lies (1...|       11|    1041|Drama|\n",
      "|  3741|     Badlands (1973)|       11|    3741|Drama|\n",
      "|  5693|Saturday Night Fe...|       11|    5693|Drama|\n",
      "|137857|The Jungle Book (...|       11|  137857|Drama|\n",
      "| 48082|Science of Sleep,...|       11|   48082|Drama|\n",
      "|  1480|Smilla's Sense of...|       11|    1480|Drama|\n",
      "|  1483|        Crash (1996)|       11|    1483|Drama|\n",
      "|   965|39 Steps, The (1935)|       11|     965|Drama|\n",
      "+------+--------------------+---------+--------+-----+\n",
      "\n",
      "10 не популярных фильмов жанра \"Comedy\":\n",
      "+------+--------------------+---------+--------+------+\n",
      "|    id|               title|votes_cnt|movie_id| genre|\n",
      "+------+--------------------+---------+--------+------+\n",
      "|159093|Now You See Me 2 ...|       11|  159093|Comedy|\n",
      "|  2796|   Funny Farm (1988)|       11|    2796|Comedy|\n",
      "|  2926|    Hairspray (1988)|       11|    2926|Comedy|\n",
      "| 48082|Science of Sleep,...|       11|   48082|Comedy|\n",
      "|  4340|  Animal, The (2001)|       11|    4340|Comedy|\n",
      "| 49274|   Happy Feet (2006)|       11|   49274|Comedy|\n",
      "|  4368|Dr. Dolittle 2 (2...|       11|    4368|Comedy|\n",
      "| 97225|Hotel Transylvani...|       11|   97225|Comedy|\n",
      "|   157|Canadian Bacon (1...|       11|     157|Comedy|\n",
      "|  5693|Saturday Night Fe...|       11|    5693|Comedy|\n",
      "+------+--------------------+---------+--------+------+\n",
      "\n",
      "10 не популярных фильмов жанра \"Musical\":\n",
      "+-----+--------------------+---------+--------+-------+\n",
      "|   id|               title|votes_cnt|movie_id|  genre|\n",
      "+-----+--------------------+---------+--------+-------+\n",
      "|54190|Across the Univer...|       11|   54190|Musical|\n",
      "|52435|How the Grinch St...|       11|   52435|Musical|\n",
      "| 7247|Chitty Chitty Ban...|       11|    7247|Musical|\n",
      "| 4642|Hedwig and the An...|       11|    4642|Musical|\n",
      "|  631|All Dogs Go to He...|       11|     631|Musical|\n",
      "| 2135|Doctor Dolittle (...|       11|    2135|Musical|\n",
      "|  709|Oliver & Company ...|       11|     709|Musical|\n",
      "| 2565|King and I, The (...|       12|    2565|Musical|\n",
      "| 1081|Victor/Victoria (...|       12|    1081|Musical|\n",
      "|30816|Phantom of the Op...|       12|   30816|Musical|\n",
      "+-----+--------------------+---------+--------+-------+\n",
      "\n"
     ]
    }
   ],
   "source": [
    "for genre in VARIANT_GENRES:\n",
    "    print('10 не популярных фильмов жанра \"{}\":'.format(genre))\n",
    "    movies_votes_cnt \\\n",
    "        .join(movies_genres, movies.id == movies_genres.movie_id) \\\n",
    "        .filter(movies_genres.genre == genre) \\\n",
    "        .filter('votes_cnt > 10') \\\n",
    "        .orderBy('votes_cnt') \\\n",
    "        .limit(10) \\\n",
    "        .show()"
   ]
  },
  {
   "cell_type": "markdown",
   "metadata": {},
   "source": [
    "<p>4. Выведите первые 10 фильмов с наибольшим средним рейтингом при количестве рейтингов больше 10 для каждого жанра в соотвествии с вариантом</p>"
   ]
  },
  {
   "cell_type": "code",
   "execution_count": 7,
   "metadata": {},
   "outputs": [
    {
     "name": "stdout",
     "output_type": "stream",
     "text": [
      "+-----+--------------------+---------+------------------+\n",
      "|   id|               title|votes_cnt|            rating|\n",
      "+-----+--------------------+---------+------------------+\n",
      "|   55|      Georgia (1995)|        1|               4.0|\n",
      "|  502|Next Karate Kid, ...|       15|2.3666666666666667|\n",
      "| 1301|Forbidden Planet ...|       13|3.8076923076923075|\n",
      "| 1458|        Touch (1997)|        1|               4.0|\n",
      "| 1526| Fathers' Day (1997)|        3|               1.0|\n",
      "| 2887|    Simon Sez (1999)|        1|               1.0|\n",
      "| 3070|Adventures of Buc...|       21|3.5476190476190474|\n",
      "| 3129|Sweet and Lowdown...|        3|3.6666666666666665|\n",
      "| 3448|Good Morning, Vie...|       43| 3.802325581395349|\n",
      "| 3702|      Mad Max (1979)|       38| 3.486842105263158|\n",
      "| 3965|Strange Love of M...|        1|               3.5|\n",
      "| 4285|Frankie and Johnn...|        3|2.8333333333333335|\n",
      "| 5221|Harrison's Flower...|        1|               3.0|\n",
      "| 5250|   Stir Crazy (1980)|        3|               4.0|\n",
      "| 6193|Poolhall Junkies ...|        3|3.8333333333333335|\n",
      "| 6868|   Wonderland (2003)|        7|3.4285714285714284|\n",
      "| 6954|Barbarian Invasio...|        3|               4.0|\n",
      "| 7059|National Velvet (...|        2|              3.75|\n",
      "|26285|    Dark Star (1974)|        1|               2.5|\n",
      "|26599|Law of Desire (Le...|        1|               4.0|\n",
      "+-----+--------------------+---------+------------------+\n",
      "only showing top 20 rows\n",
      "\n",
      "Топ 10 фильмов жанра \"Drama\":\n",
      "+----+--------------------+---------+-----------------+--------+-----+\n",
      "|  id|               title|votes_cnt|           rating|movie_id|genre|\n",
      "+----+--------------------+---------+-----------------+--------+-----+\n",
      "|1041|Secrets & Lies (1...|       11|4.590909090909091|    1041|Drama|\n",
      "|3451|Guess Who's Comin...|       11|4.545454545454546|    3451|Drama|\n",
      "|1178|Paths of Glory (1...|       12|4.541666666666667|    1178|Drama|\n",
      "|1104|Streetcar Named D...|       20|            4.475|    1104|Drama|\n",
      "|2360|Celebration, The ...|       12|4.458333333333333|    2360|Drama|\n",
      "|1217|          Ran (1985)|       15|4.433333333333334|    1217|Drama|\n",
      "| 318|Shawshank Redempt...|      317|4.429022082018927|     318|Drama|\n",
      "| 922|Sunset Blvd. (a.k...|       27|4.333333333333333|     922|Drama|\n",
      "|3468| Hustler, The (1961)|       18|4.333333333333333|    3468|Drama|\n",
      "|3435|Double Indemnity ...|       17|4.323529411764706|    3435|Drama|\n",
      "+----+--------------------+---------+-----------------+--------+-----+\n",
      "\n",
      "Топ 10 фильмов жанра \"Comedy\":\n",
      "+----+--------------------+---------+------------------+--------+------+\n",
      "|  id|               title|votes_cnt|            rating|movie_id| genre|\n",
      "+----+--------------------+---------+------------------+--------+------+\n",
      "| 951|His Girl Friday (...|       14| 4.392857142857143|     951|Comedy|\n",
      "| 905|It Happened One N...|       14| 4.321428571428571|     905|Comedy|\n",
      "| 898|Philadelphia Stor...|       29| 4.310344827586207|     898|Comedy|\n",
      "| 176|Living in Oblivio...|       13|4.3076923076923075|     176|Comedy|\n",
      "|1235|Harold and Maude ...|       26| 4.288461538461538|    1235|Comedy|\n",
      "| 750|Dr. Strangelove o...|       97| 4.268041237113402|     750|Comedy|\n",
      "|3429|Creature Comforts...|       12|              4.25|    3429|Comedy|\n",
      "|1197|Princess Bride, T...|      142| 4.232394366197183|    1197|Comedy|\n",
      "| 296| Pulp Fiction (1994)|      307| 4.197068403908795|     296|Comedy|\n",
      "|4973|Amelie (Fabuleux ...|      120| 4.183333333333334|    4973|Comedy|\n",
      "+----+--------------------+---------+------------------+--------+------+\n",
      "\n",
      "Топ 10 фильмов жанра \"Musical\":\n",
      "+-----+--------------------+---------+------------------+--------+-------+\n",
      "|   id|               title|votes_cnt|            rating|movie_id|  genre|\n",
      "+-----+--------------------+---------+------------------+--------+-------+\n",
      "| 4642|Hedwig and the An...|       11| 4.181818181818182|    4642|Musical|\n",
      "| 2565|King and I, The (...|       12| 4.166666666666667|    2565|Musical|\n",
      "|  899|Singin' in the Ra...|       47| 4.074468085106383|     899|Musical|\n",
      "|54190|Across the Univer...|       11| 4.045454545454546|   54190|Musical|\n",
      "|  914| My Fair Lady (1964)|       35| 4.042857142857143|     914|Musical|\n",
      "| 3910|Dancer in the Dar...|       20|             3.975|    3910|Musical|\n",
      "|  364|Lion King, The (1...|      172| 3.941860465116279|     364|Musical|\n",
      "| 1035|Sound of Music, T...|       64|            3.9375|    1035|Musical|\n",
      "|81847|      Tangled (2010)|       24|3.9166666666666665|   81847|Musical|\n",
      "|66934|Dr. Horrible's Si...|       24|3.9166666666666665|   66934|Musical|\n",
      "+-----+--------------------+---------+------------------+--------+-------+\n",
      "\n"
     ]
    }
   ],
   "source": [
    "# Подсчитываю средний рейтинг и количество голосов для каждого фильма\n",
    "movies_ratings = movies \\\n",
    "    .join(votes, movies.id == votes.movie_id, how='left') \\\n",
    "    .groupBy('id', 'title') \\\n",
    "    .agg({'*': 'count', 'vote': 'avg'}) \\\n",
    "    .withColumnRenamed('count(1)', 'votes_cnt') \\\n",
    "    .withColumnRenamed('avg(vote)', 'rating')\n",
    "movies_ratings.show()\n",
    "\n",
    "for genre in VARIANT_GENRES:\n",
    "    print('Топ 10 фильмов жанра \"{}\":'.format(genre))\n",
    "    movies_ratings \\\n",
    "        .join(movies_genres, movies.id == movies_genres.movie_id) \\\n",
    "        .filter(movies_genres.genre == genre) \\\n",
    "        .filter('votes_cnt > 10') \\\n",
    "        .orderBy(desc('rating')) \\\n",
    "        .limit(10) \\\n",
    "        .show()"
   ]
  },
  {
   "cell_type": "markdown",
   "metadata": {},
   "source": [
    "<p>5. Выведите первые 10 фильмов с наименьшим средним рейтингом при количестве рейтингов больше 10 для каждого жанра в соотвествии с вариантом</p>"
   ]
  },
  {
   "cell_type": "code",
   "execution_count": 8,
   "metadata": {},
   "outputs": [
    {
     "name": "stdout",
     "output_type": "stream",
     "text": [
      "Топ 10 худших фильмов жанра \"Drama\":\n",
      "+-----+--------------------+---------+------------------+--------+-----+\n",
      "|   id|               title|votes_cnt|            rating|movie_id|genre|\n",
      "+-----+--------------------+---------+------------------+--------+-----+\n",
      "| 2422|Karate Kid, Part ...|       14|              1.75|    2422|Drama|\n",
      "| 6793|    Beethoven (1992)|       11|1.7727272727272727|    6793|Drama|\n",
      "| 2412|      Rocky V (1990)|       17|1.9411764705882353|    2412|Drama|\n",
      "|46335|Fast and the Furi...|       11| 2.090909090909091|   46335|Drama|\n",
      "| 1515|      Volcano (1997)|       15|               2.1|    1515|Drama|\n",
      "| 4254|Crocodile Dundee ...|       13|2.1923076923076925|    4254|Drama|\n",
      "|76175|Clash of the Tita...|       13|2.3076923076923075|   76175|Drama|\n",
      "|  455|   Free Willy (1993)|       37| 2.391891891891892|     455|Drama|\n",
      "|  519|    RoboCop 3 (1993)|       21|2.4047619047619047|     519|Drama|\n",
      "|63992|     Twilight (2008)|       22| 2.409090909090909|   63992|Drama|\n",
      "+-----+--------------------+---------+------------------+--------+-----+\n",
      "\n",
      "Топ 10 худших фильмов жанра \"Comedy\":\n",
      "+----+--------------------+---------+------------------+--------+------+\n",
      "|  id|               title|votes_cnt|            rating|movie_id| genre|\n",
      "+----+--------------------+---------+------------------+--------+------+\n",
      "|2798|Problem Child (1990)|       12|1.5833333333333333|    2798|Comedy|\n",
      "|3564|Flintstones in Vi...|       12|             1.625|    3564|Comedy|\n",
      "|6793|    Beethoven (1992)|       11|1.7727272727272727|    6793|Comedy|\n",
      "|3268|Stop! Or My Mom W...|       11|1.7727272727272727|    3268|Comedy|\n",
      "|3997|Dungeons & Dragon...|       12|1.8333333333333333|    3997|Comedy|\n",
      "|3248|Sister Act 2: Bac...|       14|1.8928571428571428|    3248|Comedy|\n",
      "|6482|Dumb and Dumberer...|       11|1.9545454545454546|    6482|Comedy|\n",
      "| 546|Super Mario Bros....|       21|               2.0|     546|Comedy|\n",
      "|2053|Honey, I Blew Up ...|       20|              2.05|    2053|Comedy|\n",
      "|3440|Teenage Mutant Ni...|       14|2.0714285714285716|    3440|Comedy|\n",
      "+----+--------------------+---------+------------------+--------+------+\n",
      "\n",
      "Топ 10 худших фильмов жанра \"Musical\":\n",
      "+-----+--------------------+---------+------------------+--------+-------+\n",
      "|   id|               title|votes_cnt|            rating|movie_id|  genre|\n",
      "+-----+--------------------+---------+------------------+--------+-------+\n",
      "| 1381|     Grease 2 (1982)|       19|2.0789473684210527|    1381|Musical|\n",
      "| 2088|       Popeye (1980)|       18|               2.5|    2088|Musical|\n",
      "| 1772|Blues Brothers 20...|       12|2.7083333333333335|    1772|Musical|\n",
      "| 1030|Pete's Dragon (1977)|       15|2.7666666666666666|    1030|Musical|\n",
      "|60397|   Mamma Mia! (2008)|       14|2.9642857142857144|   60397|Musical|\n",
      "|  709|Oliver & Company ...|       11| 3.090909090909091|     709|Musical|\n",
      "| 4039|        Annie (1982)|       16|             3.125|    4039|Musical|\n",
      "| 1380|       Grease (1978)|       68| 3.139705882352941|    1380|Musical|\n",
      "|   48|   Pocahontas (1995)|       68|3.1470588235294117|      48|Musical|\n",
      "| 1064|Aladdin and the K...|       13|3.1538461538461537|    1064|Musical|\n",
      "+-----+--------------------+---------+------------------+--------+-------+\n",
      "\n"
     ]
    }
   ],
   "source": [
    "for genre in VARIANT_GENRES:\n",
    "    print('Топ 10 худших фильмов жанра \"{}\":'.format(genre))\n",
    "    movies_ratings \\\n",
    "        .join(movies_genres, movies.id == movies_genres.movie_id) \\\n",
    "        .filter(movies_genres.genre == genre) \\\n",
    "        .filter('votes_cnt > 10') \\\n",
    "        .orderBy('rating') \\\n",
    "        .limit(10) \\\n",
    "        .show()"
   ]
  },
  {
   "cell_type": "markdown",
   "metadata": {},
   "source": [
    "<p><b>Задача 2.</b> Коллаборативная фильтрация <b><i>(5 баллов)</i></b></p>"
   ]
  },
  {
   "cell_type": "markdown",
   "metadata": {},
   "source": [
    "<p><b style=\"color:green;\">Вариант 1.</b> По схожести пользователей</p>\n",
    "<p><b style=\"color:green;\">Вариант 2.</b> По схожести объектов</p>"
   ]
  },
  {
   "cell_type": "markdown",
   "metadata": {},
   "source": [
    "<p>6. Разделите данные с рейтингами на обучающее (train_init - 0.8) и тестовое подмножества (test - 0.2), определите среднее значение рейтинга в обучающем подмножестве и вычислите rmse для тестового подмножества, если для всех значений из test предсказывается среднее значение рейтинга</p>"
   ]
  },
  {
   "cell_type": "code",
   "execution_count": 9,
   "metadata": {},
   "outputs": [
    {
     "name": "stdout",
     "output_type": "stream",
     "text": [
      "80555 20281\n"
     ]
    },
    {
     "data": {
      "text/plain": [
       "DataFrame[user_id: bigint, movie_id: bigint, vote: double, date: bigint]"
      ]
     },
     "execution_count": 9,
     "metadata": {},
     "output_type": "execute_result"
    }
   ],
   "source": [
    "train, test = votes.randomSplit([0.8, 0.2], seed=12)\n",
    "train.persist()\n",
    "test.persist()\n",
    "print(train.count(), test.count())\n",
    "# Разделил тестировачные данные на 4 партиции для параллельного подсчета\n",
    "train.repartition(4)"
   ]
  },
  {
   "cell_type": "markdown",
   "metadata": {},
   "source": [
    "<p>7. Реализуйте коллаборативную фильтрацию в соотвествии с вариантом. Для определения схожести используйте train_init, для расчета rmse - test</p>"
   ]
  },
  {
   "cell_type": "code",
   "execution_count": 10,
   "metadata": {},
   "outputs": [],
   "source": [
    "#Ваш код"
   ]
  },
  {
   "cell_type": "markdown",
   "metadata": {},
   "source": [
    "<p>8. Определите rmse для тестового подмножества</p>"
   ]
  },
  {
   "cell_type": "code",
   "execution_count": 11,
   "metadata": {},
   "outputs": [],
   "source": [
    "#Ваш код"
   ]
  },
  {
   "cell_type": "markdown",
   "metadata": {},
   "source": [
    "<p><b>Задача 3.</b> Факторизация матрицы <b><i>(3 балла)</i></b></p>"
   ]
  },
  {
   "cell_type": "markdown",
   "metadata": {},
   "source": [
    "<p>9. Выберите модель ALS по минимальному значению rmse. Для этого используйте kfolds c k=4</p>"
   ]
  },
  {
   "cell_type": "markdown",
   "metadata": {},
   "source": [
    "<div class=\"msg-block msg-warning\">\n",
    "  <p class=\"msg-text-warn\">Если какие-то элементы из тестового/валидационного подмножества не встречались в обучающем, то rmse будет NaN. Поэтому заранее уберите из тестового/валидационного подмножества такие элементы</p>\n",
    "</div>"
   ]
  },
  {
   "cell_type": "code",
   "execution_count": 12,
   "metadata": {},
   "outputs": [
    {
     "name": "stdout",
     "output_type": "stream",
     "text": [
      "Обучение модели с последующей выбором лучшей...\n",
      "Метрики для каждой модели:\n",
      "[1.2879213527273325, 1.0931058299459528, 0.9149025901813009, 1.3257023452278516, 3.6676806484297613, 1.438623797788002, 1.213718962142515, 0.9153725463471862, 1.3257040738208732, 3.6676806484297613, 1.576060667950038, 1.284156806047111, 0.9165412487091724, 1.3257044840171814, 3.6676806484297613]\n"
     ]
    }
   ],
   "source": [
    "from pyspark.ml.recommendation import ALS\n",
    "from pyspark.ml.evaluation import RegressionEvaluator\n",
    "from pyspark.ml.tuning import CrossValidator\n",
    "from pyspark.ml.tuning import ParamGridBuilder\n",
    "\n",
    "# Параметры\n",
    "rank = [5, 10, 15] # количество факторов\n",
    "regParam = [0.001, 0.01, 0.1, 1, 10] # регуляризация\n",
    "\n",
    "# Инициализация ALS.\n",
    "# При прогнозировании с использованием оператора ALSModel, обычно встречаются пользователи или элементы в тестовом наборе данных, \n",
    "# которых не было во время обучения модели. По умолчанию Spark во время ALSModel.transform назначает NaN на прогнозы,\n",
    "# когда пользователь или коэффициент элемента отсутствуют в модели.\n",
    "# Параметр coldStartStrategy='drop' означает, что будет отбрасывать любые строки в DataFrame прогнозов, \n",
    "# которые содержат значения NaN.\n",
    "als = ALS(coldStartStrategy='drop', userCol=\"user_id\", itemCol=\"movie_id\", ratingCol=\"vote\")\n",
    "\n",
    "# Инициализация RegressionEvaluator для выбора лучшей модели\n",
    "evaluator = RegressionEvaluator(metricName=\"rmse\", labelCol=\"vote\", predictionCol=\"prediction\")\n",
    "\n",
    "# Инициализация ParamGridBuilder\n",
    "param_grid = ParamGridBuilder()\\\n",
    "    .addGrid(als.rank, rank)\\\n",
    "    .addGrid(als.regParam, regParam)\\\n",
    "    .build()\n",
    "\n",
    "# Инициализация CrossValidator\n",
    "cv = CrossValidator(estimator=als, numFolds=4, estimatorParamMaps=param_grid, evaluator=evaluator)\n",
    "\n",
    "print('Обучение модели с последующей выбором лучшей...')\n",
    "models = cv.fit(train)\n",
    "\n",
    "print('Метрики для каждой модели:')\n",
    "print(models.avgMetrics)"
   ]
  },
  {
   "cell_type": "code",
   "execution_count": 15,
   "metadata": {},
   "outputs": [
    {
     "data": {
      "text/plain": [
       "5"
      ]
     },
     "execution_count": 15,
     "metadata": {},
     "output_type": "execute_result"
    }
   ],
   "source": [
    "best_model.rank"
   ]
  },
  {
   "cell_type": "markdown",
   "metadata": {},
   "source": [
    "Сопаставляю метрики и параметры для каждой модели"
   ]
  },
  {
   "cell_type": "code",
   "execution_count": 47,
   "metadata": {},
   "outputs": [
    {
     "data": {
      "text/plain": [
       "[(1.2879213527273325,\n",
       "  {Param(parent='ALS_e80e7351dd18', name='rank', doc='rank of the factorization'): 5,\n",
       "   Param(parent='ALS_e80e7351dd18', name='regParam', doc='regularization parameter (>= 0).'): 0.001}),\n",
       " (1.0931058299459528,\n",
       "  {Param(parent='ALS_e80e7351dd18', name='rank', doc='rank of the factorization'): 5,\n",
       "   Param(parent='ALS_e80e7351dd18', name='regParam', doc='regularization parameter (>= 0).'): 0.01}),\n",
       " (0.9149025901813009,\n",
       "  {Param(parent='ALS_e80e7351dd18', name='rank', doc='rank of the factorization'): 5,\n",
       "   Param(parent='ALS_e80e7351dd18', name='regParam', doc='regularization parameter (>= 0).'): 0.1}),\n",
       " (1.3257023452278516,\n",
       "  {Param(parent='ALS_e80e7351dd18', name='rank', doc='rank of the factorization'): 5,\n",
       "   Param(parent='ALS_e80e7351dd18', name='regParam', doc='regularization parameter (>= 0).'): 1.0}),\n",
       " (3.6676806484297613,\n",
       "  {Param(parent='ALS_e80e7351dd18', name='rank', doc='rank of the factorization'): 5,\n",
       "   Param(parent='ALS_e80e7351dd18', name='regParam', doc='regularization parameter (>= 0).'): 10.0}),\n",
       " (1.438623797788002,\n",
       "  {Param(parent='ALS_e80e7351dd18', name='rank', doc='rank of the factorization'): 10,\n",
       "   Param(parent='ALS_e80e7351dd18', name='regParam', doc='regularization parameter (>= 0).'): 0.001}),\n",
       " (1.213718962142515,\n",
       "  {Param(parent='ALS_e80e7351dd18', name='rank', doc='rank of the factorization'): 10,\n",
       "   Param(parent='ALS_e80e7351dd18', name='regParam', doc='regularization parameter (>= 0).'): 0.01}),\n",
       " (0.9153725463471862,\n",
       "  {Param(parent='ALS_e80e7351dd18', name='rank', doc='rank of the factorization'): 10,\n",
       "   Param(parent='ALS_e80e7351dd18', name='regParam', doc='regularization parameter (>= 0).'): 0.1}),\n",
       " (1.3257040738208732,\n",
       "  {Param(parent='ALS_e80e7351dd18', name='rank', doc='rank of the factorization'): 10,\n",
       "   Param(parent='ALS_e80e7351dd18', name='regParam', doc='regularization parameter (>= 0).'): 1.0}),\n",
       " (3.6676806484297613,\n",
       "  {Param(parent='ALS_e80e7351dd18', name='rank', doc='rank of the factorization'): 10,\n",
       "   Param(parent='ALS_e80e7351dd18', name='regParam', doc='regularization parameter (>= 0).'): 10.0}),\n",
       " (1.576060667950038,\n",
       "  {Param(parent='ALS_e80e7351dd18', name='rank', doc='rank of the factorization'): 15,\n",
       "   Param(parent='ALS_e80e7351dd18', name='regParam', doc='regularization parameter (>= 0).'): 0.001}),\n",
       " (1.284156806047111,\n",
       "  {Param(parent='ALS_e80e7351dd18', name='rank', doc='rank of the factorization'): 15,\n",
       "   Param(parent='ALS_e80e7351dd18', name='regParam', doc='regularization parameter (>= 0).'): 0.01}),\n",
       " (0.9165412487091724,\n",
       "  {Param(parent='ALS_e80e7351dd18', name='rank', doc='rank of the factorization'): 15,\n",
       "   Param(parent='ALS_e80e7351dd18', name='regParam', doc='regularization parameter (>= 0).'): 0.1}),\n",
       " (1.3257044840171814,\n",
       "  {Param(parent='ALS_e80e7351dd18', name='rank', doc='rank of the factorization'): 15,\n",
       "   Param(parent='ALS_e80e7351dd18', name='regParam', doc='regularization parameter (>= 0).'): 1.0}),\n",
       " (3.6676806484297613,\n",
       "  {Param(parent='ALS_e80e7351dd18', name='rank', doc='rank of the factorization'): 15,\n",
       "   Param(parent='ALS_e80e7351dd18', name='regParam', doc='regularization parameter (>= 0).'): 10.0})]"
      ]
     },
     "execution_count": 47,
     "metadata": {},
     "output_type": "execute_result"
    }
   ],
   "source": [
    "list(zip(models.avgMetrics, param_grid))"
   ]
  },
  {
   "cell_type": "markdown",
   "metadata": {},
   "source": [
    "<p>10. Сравните результаты рекомендаций посредством коллаборативной фильтрации и факторизации матрицы рейтингов</p>"
   ]
  },
  {
   "cell_type": "code",
   "execution_count": 16,
   "metadata": {},
   "outputs": [
    {
     "name": "stdout",
     "output_type": "stream",
     "text": [
      "Предсказания на тестовых данных\n",
      "+-------+--------+----+----------+----------+\n",
      "|user_id|movie_id|vote|      date|prediction|\n",
      "+-------+--------+----+----------+----------+\n",
      "|    133|     471| 4.0| 843491793|  2.764866|\n",
      "|    182|     471| 4.5|1054779644| 3.4889863|\n",
      "|    218|     471| 4.0|1111624874| 3.2175772|\n",
      "|    474|     471| 3.0| 974668858|  3.839415|\n",
      "|    387|     471| 3.0|1139047519| 2.8340988|\n",
      "|    555|     471| 3.0| 978746933| 3.0487578|\n",
      "|    520|     471| 5.0|1326609921| 3.5930803|\n",
      "|    273|     471| 5.0| 835861348| 3.4615295|\n",
      "|    104|     471| 4.5|1238111129| 3.6547296|\n",
      "|    463|    1088| 3.5|1145460096| 3.2466214|\n",
      "|    159|    1088| 4.0|1508641161| 3.3381646|\n",
      "|     20|    1088| 4.5|1054147512| 3.5121129|\n",
      "|    583|    1088| 3.5|1481474480|  3.347184|\n",
      "|    555|    1088| 4.0| 978822670| 3.7007885|\n",
      "|     84|    1088| 3.0| 860398568| 3.2135463|\n",
      "|    268|    1238| 5.0| 940183153|  3.835485|\n",
      "|     19|    1238| 3.0| 965705784| 3.6909757|\n",
      "|    425|    1342| 3.5|1114173335| 2.4332187|\n",
      "|    593|    1580| 1.5|1181007882| 2.7243688|\n",
      "|    115|    1580| 4.0| 944953431|  3.651166|\n",
      "+-------+--------+----+----------+----------+\n",
      "only showing top 20 rows\n",
      "\n"
     ]
    }
   ],
   "source": [
    "print('Предсказания на тестовых данных')\n",
    "predictions = best_model.transform(test)\n",
    "predictions.show()"
   ]
  },
  {
   "cell_type": "code",
   "execution_count": 17,
   "metadata": {},
   "outputs": [
    {
     "name": "stdout",
     "output_type": "stream",
     "text": [
      "RMSE: 0.8822139125955473\n",
      "RMSE без NaN: 0.8822139125955473\n"
     ]
    }
   ],
   "source": [
    "print('RMSE: {}'.format(evaluator.evaluate(predictions)))\n",
    "print('RMSE без NaN: {}'.format(evaluator.evaluate(predictions.na.drop())))"
   ]
  },
  {
   "cell_type": "code",
   "execution_count": 18,
   "metadata": {},
   "outputs": [],
   "source": [
    "#Ваш код"
   ]
  },
  {
   "cell_type": "markdown",
   "metadata": {},
   "source": [
    "<p><b>Задача 4.</b> Подготовка и отправка тетради с решением</p>"
   ]
  },
  {
   "cell_type": "markdown",
   "metadata": {},
   "source": [
    "<p>11. Отправьте заполненную тетрадь c Вашим решением (адрес см. выше). В теме укажите: SD ДЗ3 группа Фамилия</p>"
   ]
  },
  {
   "cell_type": "code",
   "execution_count": 19,
   "metadata": {},
   "outputs": [
    {
     "ename": "SyntaxError",
     "evalue": "invalid character in identifier (<ipython-input-19-5ef9121810a6>, line 2)",
     "output_type": "error",
     "traceback": [
      "\u001b[0;36m  File \u001b[0;32m\"<ipython-input-19-5ef9121810a6>\"\u001b[0;36m, line \u001b[0;32m2\u001b[0m\n\u001b[0;31m    A№Задания_№Группа_Фамилия_ВариантЗадачи1_ВариантЗадачи2.ipynb\u001b[0m\n\u001b[0m                                                          ^\u001b[0m\n\u001b[0;31mSyntaxError\u001b[0m\u001b[0;31m:\u001b[0m invalid character in identifier\n"
     ]
    }
   ],
   "source": [
    "# Шаблон названия тетради (всё англ. буквами)\n",
    "A№Задания_№Группа_Фамилия_ВариантЗадачи1_ВариантЗадачи2.ipynb\n",
    "\n",
    "# Пример\n",
    "A3_31_Ivanov_1_2.ipynb"
   ]
  },
  {
   "cell_type": "markdown",
   "metadata": {},
   "source": [
    "<hr>\n",
    "<div style=\"width:100%;\"><p style=\"width:100%; text-align:center; font-weight:bold; font-size:18px;\">FIN</p></div>"
   ]
  }
 ],
 "metadata": {
  "kernelspec": {
   "display_name": "Python 3",
   "language": "python",
   "name": "python3"
  },
  "language_info": {
   "codemirror_mode": {
    "name": "ipython",
    "version": 3
   },
   "file_extension": ".py",
   "mimetype": "text/x-python",
   "name": "python",
   "nbconvert_exporter": "python",
   "pygments_lexer": "ipython3",
   "version": "3.7.4"
  }
 },
 "nbformat": 4,
 "nbformat_minor": 2
}
